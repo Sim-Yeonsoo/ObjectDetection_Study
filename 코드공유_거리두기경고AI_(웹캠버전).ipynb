{
 "cells": [
  {
   "cell_type": "markdown",
   "metadata": {},
   "source": [
    "## 실시간 웹캠 -> 상자 검출 및 겹침 확인 해서 경고 까지"
   ]
  },
  {
   "cell_type": "markdown",
   "metadata": {},
   "source": [
    "### 필요 라이브러리 불러오기"
   ]
  },
  {
   "cell_type": "code",
   "execution_count": 1,
   "metadata": {},
   "outputs": [],
   "source": [
    "import cv2\n",
    "import cvlib as cv\n",
    "from cvlib.object_detection import draw_bbox"
   ]
  },
  {
   "cell_type": "markdown",
   "metadata": {},
   "source": [
    "### 상자 서로 겹치는 지 확인해주는 함수 : CheckOverlabBoxNum()에서 사용"
   ]
  },
  {
   "cell_type": "code",
   "execution_count": 8,
   "metadata": {},
   "outputs": [],
   "source": [
    "def CheckOverlapBox(bbox1, bbox2): \n",
    "    check = 0\n",
    "    #bbox 형식: [Bbox 왼쪽위(최소)x, Bbox 왼쪽위(최소)y, Bbox 오른쪽아래(최대), Bbox 오른쪽 아래(최대)y] \n",
    "    #b_x 형식 : [x좌표 최소, x좌표 최대]\n",
    "    #b_y 형식 : [y좌표 최소, y좌표 최대]\n",
    "    b1_x = [bbox1[0], bbox1[2]]\n",
    "    b1_y = [bbox1[1], bbox1[3]]\n",
    "    b2_x = [bbox2[0], bbox2[2]]\n",
    "    b2_y = [bbox2[1], bbox2[3]]\n",
    "\n",
    "    if b1_x[0]<=b2_x[1] and b1_x[1]>=b2_x[0]: # x축 방향에서 서로 중복됨\n",
    "        if b1_y[0]<=b2_y[1] and b1_y[1]>=b2_y[0]: # y축 방향에서 서로 중복됨\n",
    "            check = 1 # 겹침 \n",
    "    \n",
    "    return check # 두 박스가 겹치면 1, 안겹치면 0을 반환 \n"
   ]
  },
  {
   "cell_type": "markdown",
   "metadata": {},
   "source": [
    "### 상자 최대 몇 개 겹치는 지 확인해주는 함수 : main run에서 사용"
   ]
  },
  {
   "cell_type": "code",
   "execution_count": 3,
   "metadata": {},
   "outputs": [],
   "source": [
    "def CheckOverlapBoxNum(bbox):\n",
    "    \n",
    "    OverlapRelation = [0 for i in range(len(bbox))] # 겹침관계표현list \n",
    "    OverlapRelation[0] = 1\n",
    "    maxnum = 1\n",
    "    for i in range(len(bbox)):\n",
    "        if OverlapRelation[i] == 0:\n",
    "            OverlapRelation[i] = ++maxnum\n",
    "        for j in range(0, i):\n",
    "            if CheckOverlapBox(bbox[i], bbox[j]) == 1: #상자가 서로 겹친다면\n",
    "                OverlapRelation[i] = OverlapRelation[j]\n",
    "                break\n",
    "                \n",
    "                    \n",
    "    MaxOverlapBoxNum = 1\n",
    "    for i in range(1, max(OverlapRelation)+1):\n",
    "        if MaxOverlapBoxNum < OverlapRelation.count(i):\n",
    "            MaxOverlapBoxNum = OverlapRelation.count(i)\n",
    "    \n",
    "    #return MaxOverlapBoxNum\n",
    "    return [OverlapRelation, MaxOverlapBoxNum]"
   ]
  },
  {
   "cell_type": "markdown",
   "metadata": {},
   "source": [
    "* return 값 (최종 겹침 결과 배열) 설명 : \n",
    " * [OverlapRelation, MaxOverlapBoxNum] : [겹침관계표현list, 최대상자겹침갯수]\n",
    " * 겸침관계표현list : 경계상자 수만큼의 크기를 가지는 리스트, 같은 숫자를 가지는 bbox는 같은 연결그룹에 속함\n",
    " * 최대상자겹침갯수 : 한번에 연결되어 있는 상자 그룹 중, 그룹에 속한 상자 수의 최댓값 "
   ]
  },
  {
   "cell_type": "markdown",
   "metadata": {},
   "source": [
    "### main run : 웹캠 열어서 판별, 'q' 키 입력 시 종료 "
   ]
  },
  {
   "cell_type": "code",
   "execution_count": 7,
   "metadata": {},
   "outputs": [
    {
     "name": "stdout",
     "output_type": "stream",
     "text": [
      "[[87, 78, 653, 481]] ['person'] [0.8756798505783081]\n",
      "[[1], 1]\n",
      "[[104, 102, 648, 480]] ['person'] [0.7574600577354431]\n",
      "[[1], 1]\n",
      "[[108, 96, 638, 479]] ['person'] [0.7786049246788025]\n",
      "[[1], 1]\n",
      "[[114, 97, 634, 478]] ['person'] [0.7870376706123352]\n",
      "[[1], 1]\n",
      "[[92, 100, 656, 480]] ['person'] [0.7472249865531921]\n",
      "[[1], 1]\n",
      "[[102, 99, 646, 478]] ['person'] [0.7210478186607361]\n",
      "[[1], 1]\n",
      "[[106, 99, 645, 475]] ['person'] [0.773526668548584]\n",
      "[[1], 1]\n",
      "[[103, 96, 649, 476]] ['person'] [0.7707498669624329]\n",
      "[[1], 1]\n",
      "[[103, 99, 648, 474]] ['person'] [0.7554253935813904]\n",
      "[[1], 1]\n",
      "[[88, 97, 657, 476]] ['person'] [0.7689708471298218]\n",
      "[[1], 1]\n",
      "[[88, 92, 655, 479]] ['person'] [0.7713832259178162]\n",
      "[[1], 1]\n",
      "[[96, 93, 647, 476]] ['person'] [0.7202344536781311]\n",
      "[[1], 1]\n",
      "[[84, 98, 652, 478]] ['person'] [0.722913384437561]\n",
      "[[1], 1]\n"
     ]
    }
   ],
   "source": [
    "# open webcam (웹캠 열기)\n",
    "webcam = cv2.VideoCapture(0)\n",
    "\n",
    "if not webcam.isOpened():\n",
    "    print(\"Could not open webcam\")\n",
    "    exit()\n",
    "    \n",
    "# loop through frames\n",
    "while webcam.isOpened():\n",
    "    \n",
    "    # read frame from webcam \n",
    "    status, frame = webcam.read() \n",
    "    \n",
    "    if not status: \n",
    "        break\n",
    "        \n",
    "    # apply object detection (물체 검출 -> 사람만)\n",
    "    bbox, label, conf = cv.detect_common_objects(frame) # cvlib의 객체 검출 실행 \n",
    "                                # -> 결과값 : bbox정보([x1,y1,x2,y2]), 분류 object label, 신회도 conf\n",
    "    a_bbox = [] \n",
    "    a_label = [] \n",
    "    a_conf = [] \n",
    "    for i in range(len(bbox)): # common object에 대해 실행된 검출 결과에서 사람에 대한 결과만 추출\n",
    "        if label[i] == 'person':\n",
    "            a_bbox.append(bbox[i])\n",
    "            a_label.append(label[i])\n",
    "            a_conf.append(conf[i])\n",
    "\n",
    "    # draw bounding box over detected objects (사람 경계상자 그리기)\n",
    "    out = draw_bbox(frame, a_bbox, a_label, a_conf, write_conf=True)   \n",
    "    print(a_bbox, a_label, a_conf)\n",
    "    \n",
    "    # display output (실시간 화면 출력)\n",
    "    cv2.imshow(\"Real-time object detection\", out)\n",
    "            \n",
    "    if len(bbox)>0: # \n",
    "        CheB = CheckOverlapBoxNum(bbox) # 경계상자 간 겹침정보 확인 \n",
    "        print(CheB) \n",
    "        # 5인 이상 밀집 시 경고 메세지 발생 \n",
    "        if CheB[1] >= 5 : # 한 번에 밀집된 사람수 (연결그룹에 속한 경계상자 수의 최댓값)이 5 이상이면 \n",
    "            print(\"5인 이상 밀집 ! 거리두기를 해주세요 \")\n",
    "    \n",
    "    #---------------------------------------------------\n",
    "    # press \"Q\" to stop\n",
    "    if cv2.waitKey(1) & 0xFF == ord('q'):\n",
    "        break\n",
    "    \n",
    "# release resources\n",
    "webcam.release()\n",
    "cv2.destroyAllWindows()"
   ]
  },
  {
   "cell_type": "code",
   "execution_count": null,
   "metadata": {},
   "outputs": [],
   "source": []
  }
 ],
 "metadata": {
  "kernelspec": {
   "display_name": "Python 3",
   "language": "python",
   "name": "python3"
  },
  "language_info": {
   "codemirror_mode": {
    "name": "ipython",
    "version": 3
   },
   "file_extension": ".py",
   "mimetype": "text/x-python",
   "name": "python",
   "nbconvert_exporter": "python",
   "pygments_lexer": "ipython3",
   "version": "3.8.5"
  }
 },
 "nbformat": 4,
 "nbformat_minor": 4
}
